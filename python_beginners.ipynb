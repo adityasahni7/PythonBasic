{
 "cells": [
  {
   "cell_type": "code",
   "execution_count": 83,
   "metadata": {},
   "outputs": [
    {
     "name": "stdout",
     "output_type": "stream",
     "text": [
      "Hello World\n"
     ]
    }
   ],
   "source": [
    "#Hello World\n",
    "print(\"Hello World\")"
   ]
  },
  {
   "cell_type": "code",
   "execution_count": 84,
   "metadata": {},
   "outputs": [
    {
     "name": "stdout",
     "output_type": "stream",
     "text": [
      "   /|\n",
      "  / |\n",
      " /  |\n",
      "/___|\n"
     ]
    }
   ],
   "source": [
    "#Drawing a Shape\n",
    "print(\"   /|\")\n",
    "print(\"  / |\")\n",
    "print(\" /  |\")\n",
    "print(\"/___|\")"
   ]
  },
  {
   "cell_type": "code",
   "execution_count": 85,
   "metadata": {},
   "outputs": [
    {
     "name": "stdout",
     "output_type": "stream",
     "text": [
      "There was a man named Tom,\n",
      "He was 50 years old. \n",
      "He really liked the name Mike.\n",
      "But didn't like being 50.\n"
     ]
    }
   ],
   "source": [
    "#Variables and Data Types\n",
    "character_name = \"Tom\"\n",
    "character_age = \"50\"\n",
    "is_male = False\n",
    "print(\"There was a man named \" + character_name +\",\")\n",
    "print(\"He was \" + character_age + \" years old. \")\n",
    "\n",
    "character_name = \"Mike\"\n",
    "print(\"He really liked the name \" + character_name + \".\")\n",
    "print(\"But didn't like being \" + character_age +\".\")"
   ]
  },
  {
   "cell_type": "code",
   "execution_count": 86,
   "metadata": {},
   "outputs": [
    {
     "name": "stdout",
     "output_type": "stream",
     "text": [
      "True\n"
     ]
    }
   ],
   "source": [
    "#Working with strings (1)\n",
    "phrase = \"Giraffe Academy\"\n",
    "print(phrase.upper().isupper())"
   ]
  },
  {
   "cell_type": "code",
   "execution_count": 87,
   "metadata": {},
   "outputs": [
    {
     "name": "stdout",
     "output_type": "stream",
     "text": [
      "15\n"
     ]
    }
   ],
   "source": [
    "#Working with strings (2)\n",
    "phrase = \"Giraffe Academy\"\n",
    "print(len(phrase))"
   ]
  },
  {
   "cell_type": "code",
   "execution_count": 88,
   "metadata": {},
   "outputs": [
    {
     "name": "stdout",
     "output_type": "stream",
     "text": [
      "i\n"
     ]
    }
   ],
   "source": [
    "#Working with strings (3)\n",
    "phrase = \"Giraffe Academy\"\n",
    "#         01234..\n",
    "print(phrase[1])"
   ]
  },
  {
   "cell_type": "code",
   "execution_count": 89,
   "metadata": {},
   "outputs": [
    {
     "name": "stdout",
     "output_type": "stream",
     "text": [
      "3\n"
     ]
    }
   ],
   "source": [
    "#Working with strings (4)\n",
    "phrase = \"Giraffe Academy\"\n",
    "print(phrase.index(\"a\"))"
   ]
  },
  {
   "cell_type": "code",
   "execution_count": 90,
   "metadata": {},
   "outputs": [
    {
     "name": "stdout",
     "output_type": "stream",
     "text": [
      "Elephant Academy\n"
     ]
    }
   ],
   "source": [
    "#Working with strings (5)\n",
    "phrase = \"Giraffe Academy\"\n",
    "print(phrase.replace(\"Giraffe\", \"Elephant\"))"
   ]
  },
  {
   "cell_type": "code",
   "execution_count": 91,
   "metadata": {},
   "outputs": [
    {
     "name": "stdout",
     "output_type": "stream",
     "text": [
      "-2.08484\n"
     ]
    }
   ],
   "source": [
    "#Working with numbers (1)\n",
    "print(-2.08484)"
   ]
  },
  {
   "cell_type": "code",
   "execution_count": 92,
   "metadata": {},
   "outputs": [
    {
     "name": "stdout",
     "output_type": "stream",
     "text": [
      "17\n"
     ]
    }
   ],
   "source": [
    "#Working with numbers (2)\n",
    "print(3 * 4 + 5)"
   ]
  },
  {
   "cell_type": "code",
   "execution_count": 93,
   "metadata": {},
   "outputs": [
    {
     "name": "stdout",
     "output_type": "stream",
     "text": [
      "27\n"
     ]
    }
   ],
   "source": [
    "#Working with numbers (3)\n",
    "print(3 * (4 + 5))"
   ]
  },
  {
   "cell_type": "code",
   "execution_count": 94,
   "metadata": {},
   "outputs": [
    {
     "name": "stdout",
     "output_type": "stream",
     "text": [
      "1\n"
     ]
    }
   ],
   "source": [
    "#Working with numbers (4)\n",
    "print(10 % 3)"
   ]
  },
  {
   "cell_type": "code",
   "execution_count": 95,
   "metadata": {},
   "outputs": [
    {
     "name": "stdout",
     "output_type": "stream",
     "text": [
      "5\n"
     ]
    }
   ],
   "source": [
    "#Working with numbers (5)\n",
    "my_num = 5\n",
    "print(my_num)"
   ]
  },
  {
   "cell_type": "code",
   "execution_count": 96,
   "metadata": {},
   "outputs": [
    {
     "name": "stdout",
     "output_type": "stream",
     "text": [
      "5\n"
     ]
    }
   ],
   "source": [
    "#Working with numbers (6)\n",
    "my_num = 5\n",
    "print(str(my_num))"
   ]
  },
  {
   "cell_type": "code",
   "execution_count": 97,
   "metadata": {},
   "outputs": [
    {
     "name": "stdout",
     "output_type": "stream",
     "text": [
      "5 my favorite number\n"
     ]
    }
   ],
   "source": [
    "#Working with numbers (7) (Error)\n",
    "my_num = 5\n",
    "print(str(my_num) + \" my favorite number\")"
   ]
  },
  {
   "cell_type": "code",
   "execution_count": 98,
   "metadata": {},
   "outputs": [
    {
     "ename": "TypeError",
     "evalue": "unsupported operand type(s) for +: 'int' and 'str'",
     "output_type": "error",
     "traceback": [
      "\u001b[1;31m---------------------------------------------------------------------------\u001b[0m",
      "\u001b[1;31mTypeError\u001b[0m                                 Traceback (most recent call last)",
      "Cell \u001b[1;32mIn [98], line 3\u001b[0m\n\u001b[0;32m      1\u001b[0m \u001b[39m#Working with numbers (7) (Error)\u001b[39;00m\n\u001b[0;32m      2\u001b[0m my_num \u001b[39m=\u001b[39m \u001b[39m5\u001b[39m\n\u001b[1;32m----> 3\u001b[0m \u001b[39mprint\u001b[39m(my_num \u001b[39m+\u001b[39;49m \u001b[39m\"\u001b[39;49m\u001b[39m my favorite number\u001b[39;49m\u001b[39m\"\u001b[39;49m)\n",
      "\u001b[1;31mTypeError\u001b[0m: unsupported operand type(s) for +: 'int' and 'str'"
     ]
    }
   ],
   "source": [
    "#Working with numbers (7) (Error)\n",
    "my_num = 5\n",
    "print(my_num + \" my favorite number\")"
   ]
  },
  {
   "cell_type": "code",
   "execution_count": null,
   "metadata": {},
   "outputs": [
    {
     "name": "stdout",
     "output_type": "stream",
     "text": [
      "5 my favorite number\n"
     ]
    }
   ],
   "source": [
    "#Working with numbers (7)\n",
    "my_num = 5\n",
    "print(str(my_num) + \" my favorite number\")"
   ]
  },
  {
   "cell_type": "code",
   "execution_count": null,
   "metadata": {},
   "outputs": [
    {
     "name": "stdout",
     "output_type": "stream",
     "text": [
      "5\n"
     ]
    }
   ],
   "source": [
    "#Working with numbers (8)\n",
    "my_num = -5\n",
    "print(abs(my_num))"
   ]
  },
  {
   "cell_type": "code",
   "execution_count": null,
   "metadata": {},
   "outputs": [
    {
     "name": "stdout",
     "output_type": "stream",
     "text": [
      "4096\n"
     ]
    }
   ],
   "source": [
    "#Working with numbers (9)\n",
    "print(pow(4, 6))"
   ]
  },
  {
   "cell_type": "code",
   "execution_count": null,
   "metadata": {},
   "outputs": [
    {
     "name": "stdout",
     "output_type": "stream",
     "text": [
      "6\n"
     ]
    }
   ],
   "source": [
    "#Working with numbers (10)\n",
    "print(max(4,6))"
   ]
  },
  {
   "cell_type": "code",
   "execution_count": null,
   "metadata": {},
   "outputs": [
    {
     "name": "stdout",
     "output_type": "stream",
     "text": [
      "4\n"
     ]
    }
   ],
   "source": [
    "#Working with numbers (11)\n",
    "print(min(4,6))"
   ]
  },
  {
   "cell_type": "code",
   "execution_count": null,
   "metadata": {},
   "outputs": [
    {
     "name": "stdout",
     "output_type": "stream",
     "text": [
      "4\n"
     ]
    }
   ],
   "source": [
    "#Working with numbers (12)\n",
    "print(round(3.7))"
   ]
  },
  {
   "cell_type": "code",
   "execution_count": null,
   "metadata": {},
   "outputs": [
    {
     "name": "stdout",
     "output_type": "stream",
     "text": [
      "3\n"
     ]
    }
   ],
   "source": [
    "#Working with numbers (13)\n",
    "from math import *\n",
    "print(floor(3.7))"
   ]
  },
  {
   "cell_type": "code",
   "execution_count": null,
   "metadata": {},
   "outputs": [
    {
     "name": "stdout",
     "output_type": "stream",
     "text": [
      "4\n"
     ]
    }
   ],
   "source": [
    "#Working with numbers (14)\n",
    "from math import *\n",
    "print(ceil(3.7))"
   ]
  },
  {
   "cell_type": "code",
   "execution_count": null,
   "metadata": {},
   "outputs": [
    {
     "name": "stdout",
     "output_type": "stream",
     "text": [
      "6.0\n"
     ]
    }
   ],
   "source": [
    "#Working with numbers (15)\n",
    "from math import *\n",
    "print(sqrt(36))"
   ]
  },
  {
   "cell_type": "code",
   "execution_count": null,
   "metadata": {},
   "outputs": [
    {
     "name": "stdout",
     "output_type": "stream",
     "text": [
      "Hello Aditya!\n"
     ]
    }
   ],
   "source": [
    "# Getting Input from users (1)\n",
    "name = input(\"Enter your name: \")\n",
    "print(\"Hello \" + name + \"!\")\n"
   ]
  },
  {
   "cell_type": "code",
   "execution_count": null,
   "metadata": {},
   "outputs": [
    {
     "name": "stdout",
     "output_type": "stream",
     "text": [
      "Hello Aditya! You are 20\n"
     ]
    }
   ],
   "source": [
    "# Getting Input from users (2)\n",
    "name = input(\"Enter your name: \")\n",
    "age = input(\"Enter your age: \")\n",
    "print(\"Hello \" + name + \"! You are \" + age)"
   ]
  },
  {
   "cell_type": "code",
   "execution_count": null,
   "metadata": {},
   "outputs": [
    {
     "name": "stdout",
     "output_type": "stream",
     "text": [
      "24\n"
     ]
    }
   ],
   "source": [
    "#Building a Basic Calculator (Error)\n",
    "num1 = input(\"Enter a number: \")\n",
    "num2 = input(\"Enter another number: \")\n",
    "result = num1 + num2\n",
    "print(result)"
   ]
  },
  {
   "cell_type": "code",
   "execution_count": null,
   "metadata": {},
   "outputs": [
    {
     "name": "stdout",
     "output_type": "stream",
     "text": [
      "6\n"
     ]
    }
   ],
   "source": [
    "#Building a Basic Calculator\n",
    "num1 = input(\"Enter a number: \")\n",
    "num2 = input(\"Enter another number: \")\n",
    "result = int(num1) + int(num2)\n",
    "#use float for decimal\n",
    "print(result)"
   ]
  },
  {
   "cell_type": "code",
   "execution_count": null,
   "metadata": {},
   "outputs": [
    {
     "name": "stdout",
     "output_type": "stream",
     "text": [
      "Roses are Laal\n",
      "Sky are blue\n",
      "I love Python\n"
     ]
    }
   ],
   "source": [
    "#Mad libs game\n",
    "color=input(\"Enter a color\")\n",
    "plural_noun=input(\"Enter a Plural Noun: \")\n",
    "celebrity=input(\"Enter a celebrity: \")\n",
    "print(\"Roses are \" + color)\n",
    "print(plural_noun + \" are blue\")\n",
    "print(\"I love \" + celebrity)"
   ]
  },
  {
   "cell_type": "code",
   "execution_count": null,
   "metadata": {},
   "outputs": [
    {
     "name": "stdout",
     "output_type": "stream",
     "text": [
      "['Sahil', 'Soni', 'Surya']\n"
     ]
    }
   ],
   "source": [
    "#List (1)\n",
    "friends = [\"Sahil\", \"Soni\", \"Surya\" ]\n",
    "print(friends)\n"
   ]
  },
  {
   "cell_type": "code",
   "execution_count": null,
   "metadata": {},
   "outputs": [
    {
     "name": "stdout",
     "output_type": "stream",
     "text": [
      "Surya\n"
     ]
    }
   ],
   "source": [
    "#List (2)\n",
    "friends = [\"Sahil\", \"Soni\", \"Surya\" ]\n",
    "#              0      1       2\n",
    "print(friends[2])"
   ]
  },
  {
   "cell_type": "code",
   "execution_count": null,
   "metadata": {},
   "outputs": [
    {
     "name": "stdout",
     "output_type": "stream",
     "text": [
      "Soni\n"
     ]
    }
   ],
   "source": [
    "#List (3)\n",
    "friends = [\"Sahil\", \"Soni\", \"Surya\" ]\n",
    "print(friends[-2])"
   ]
  },
  {
   "cell_type": "code",
   "execution_count": null,
   "metadata": {},
   "outputs": [
    {
     "name": "stdout",
     "output_type": "stream",
     "text": [
      "['Soni', 'Surya']\n"
     ]
    }
   ],
   "source": [
    "#List (4)\n",
    "friends = [\"Sahil\", \"Soni\", \"Surya\" ]\n",
    "print(friends[1:])"
   ]
  },
  {
   "cell_type": "code",
   "execution_count": null,
   "metadata": {},
   "outputs": [
    {
     "name": "stdout",
     "output_type": "stream",
     "text": [
      "['Soni', 'Surya', 'Suryansh']\n"
     ]
    }
   ],
   "source": [
    "#List (5)\n",
    "friends = [\"Sahil\", \"Soni\", \"Surya\", \"Suryansh\", \"Anant\", \"Harshit\" ]\n",
    "print(friends[1:4])"
   ]
  },
  {
   "cell_type": "code",
   "execution_count": null,
   "metadata": {},
   "outputs": [
    {
     "name": "stdout",
     "output_type": "stream",
     "text": [
      "Joshi\n"
     ]
    }
   ],
   "source": [
    "#List (5)\n",
    "friends = [\"Sahil\", \"Soni\", \"Surya\", \"Suryansh\", \"Anant\", \"Harshit\" ]\n",
    "friends[1] = \"Joshi\"\n",
    "print(friends[1])"
   ]
  },
  {
   "cell_type": "code",
   "execution_count": null,
   "metadata": {},
   "outputs": [
    {
     "name": "stdout",
     "output_type": "stream",
     "text": [
      "['Sahil', 'Soni', 'Surya', 'Suryansh', 'Anant', 'Harshit']\n"
     ]
    }
   ],
   "source": [
    "#List Functions\n",
    "luck_numbers = [4, 8, 15, 16, 23, 42]\n",
    "friends = [\"Sahil\", \"Soni\", \"Surya\", \"Suryansh\", \"Anant\", \"Harshit\" ]\n",
    "print(friends)"
   ]
  },
  {
   "cell_type": "code",
   "execution_count": null,
   "metadata": {},
   "outputs": [
    {
     "name": "stdout",
     "output_type": "stream",
     "text": [
      "['Sahil', 'Soni', 'Surya', 'Suryansh', 'Anant', 'Harshit', 4, 8, 15, 16, 23, 42]\n"
     ]
    }
   ],
   "source": [
    "#List Functions (2)\n",
    "lucky_numbers = [4, 8, 15, 16, 23, 42]\n",
    "friends = [\"Sahil\", \"Soni\", \"Surya\", \"Suryansh\", \"Anant\", \"Harshit\" ]\n",
    "friends.extend(lucky_numbers)\n",
    "print(friends)"
   ]
  },
  {
   "cell_type": "code",
   "execution_count": null,
   "metadata": {},
   "outputs": [
    {
     "name": "stdout",
     "output_type": "stream",
     "text": [
      "['Sahil', 'Soni', 'Surya', 'Suryansh', 'Anant', 'Harshit', 'Joshi']\n"
     ]
    }
   ],
   "source": [
    "#List Functions (3)\n",
    "lucky_numbers = [4, 8, 15, 16, 23, 42]\n",
    "friends = [\"Sahil\", \"Soni\", \"Surya\", \"Suryansh\", \"Anant\", \"Harshit\" ]\n",
    "friends.append(\"Joshi\")\n",
    "print(friends)"
   ]
  },
  {
   "cell_type": "code",
   "execution_count": null,
   "metadata": {},
   "outputs": [
    {
     "name": "stdout",
     "output_type": "stream",
     "text": [
      "['Sahil', 'Joshi', 'Soni', 'Surya', 'Suryansh', 'Anant', 'Harshit']\n"
     ]
    }
   ],
   "source": [
    "#List Functions (4)\n",
    "lucky_numbers = [4, 8, 15, 16, 23, 42]\n",
    "friends = [\"Sahil\", \"Soni\", \"Surya\", \"Suryansh\", \"Anant\", \"Harshit\" ]\n",
    "friends.insert(1, \"Joshi\")\n",
    "print(friends)"
   ]
  },
  {
   "cell_type": "code",
   "execution_count": null,
   "metadata": {},
   "outputs": [
    {
     "name": "stdout",
     "output_type": "stream",
     "text": [
      "['Sahil', 'Surya', 'Suryansh', 'Anant', 'Harshit']\n"
     ]
    }
   ],
   "source": [
    "#List Functions (5)\n",
    "lucky_numbers = [4, 8, 15, 16, 23, 42]\n",
    "friends = [\"Sahil\", \"Soni\", \"Surya\", \"Suryansh\", \"Anant\", \"Harshit\" ]\n",
    "friends.remove(\"Soni\")\n",
    "print(friends)"
   ]
  },
  {
   "cell_type": "code",
   "execution_count": null,
   "metadata": {},
   "outputs": [
    {
     "name": "stdout",
     "output_type": "stream",
     "text": [
      "['Sahil', 'Surya', 'Suryansh', 'Anant', 'Harshit']\n"
     ]
    }
   ],
   "source": [
    "#List Functions (5)\n",
    "lucky_numbers = [4, 8, 15, 16, 23, 42]\n",
    "friends = [\"Sahil\", \"Soni\", \"Surya\", \"Suryansh\", \"Anant\", \"Harshit\" ]\n",
    "friends.remove(\"Soni\")\n",
    "print(friends)"
   ]
  },
  {
   "cell_type": "code",
   "execution_count": null,
   "metadata": {},
   "outputs": [
    {
     "name": "stdout",
     "output_type": "stream",
     "text": [
      "[]\n"
     ]
    }
   ],
   "source": [
    "#List Functions (4)\n",
    "lucky_numbers = [4, 8, 15, 16, 23, 42]\n",
    "friends = [\"Sahil\", \"Soni\", \"Surya\", \"Suryansh\", \"Anant\", \"Harshit\" ]\n",
    "friends.clear()\n",
    "print(friends)"
   ]
  },
  {
   "cell_type": "code",
   "execution_count": null,
   "metadata": {},
   "outputs": [
    {
     "name": "stdout",
     "output_type": "stream",
     "text": [
      "['Sahil', 'Soni', 'Surya', 'Suryansh', 'Anant']\n"
     ]
    }
   ],
   "source": [
    "#List Functions (5)\n",
    "lucky_numbers = [4, 8, 15, 16, 23, 42]\n",
    "friends = [\"Sahil\", \"Soni\", \"Surya\", \"Suryansh\", \"Anant\", \"Harshit\" ]\n",
    "friends.pop()\n",
    "print(friends)"
   ]
  },
  {
   "cell_type": "code",
   "execution_count": null,
   "metadata": {},
   "outputs": [
    {
     "name": "stdout",
     "output_type": "stream",
     "text": [
      "4\n"
     ]
    }
   ],
   "source": [
    "#List Functions (6)\n",
    "lucky_numbers = [4, 8, 15, 16, 23, 42]\n",
    "friends = [\"Sahil\", \"Soni\", \"Surya\", \"Suryansh\", \"Anant\", \"Harshit\" ]\n",
    "print(friends.index(\"Anant\"))"
   ]
  },
  {
   "cell_type": "code",
   "execution_count": null,
   "metadata": {},
   "outputs": [],
   "source": [
    "#List Functions (6)\n",
    "lucky_numbers = [4, 8, 15, 16, 23, 42]\n",
    "friends = [\"Sahil\", \"Soni\", \"Surya\", \"Suryansh\", \"Anant\", \"Harshit\" ]\n",
    "print(friends.index(\"Anant\"))"
   ]
  },
  {
   "cell_type": "code",
   "execution_count": null,
   "metadata": {},
   "outputs": [
    {
     "name": "stdout",
     "output_type": "stream",
     "text": [
      "2\n"
     ]
    }
   ],
   "source": [
    "#List Functions (7)\n",
    "lucky_numbers = [4, 8, 15, 16, 23, 42]\n",
    "friends = [\"Sahil\", \"Soni\", \"Surya\", \"Surya\", \"Suryansh\", \"Anant\", \"Harshit\" ]\n",
    "print(friends.count(\"Surya\"))"
   ]
  },
  {
   "cell_type": "code",
   "execution_count": null,
   "metadata": {},
   "outputs": [
    {
     "name": "stdout",
     "output_type": "stream",
     "text": [
      "[4, 8, 15, 16, 23, 42]\n",
      "['Anant', 'Harshit', 'Sahil', 'Soni', 'Surya', 'Suryansh']\n"
     ]
    }
   ],
   "source": [
    "#List Functions (8)\n",
    "lucky_numbers = [4, 8, 15, 16, 23, 42]\n",
    "friends = [\"Sahil\", \"Soni\", \"Surya\", \"Suryansh\", \"Anant\", \"Harshit\" ]\n",
    "friends.sort()\n",
    "lucky_numbers.sort\n",
    "print(luck_numbers)\n",
    "print(friends)"
   ]
  },
  {
   "cell_type": "code",
   "execution_count": null,
   "metadata": {},
   "outputs": [
    {
     "name": "stdout",
     "output_type": "stream",
     "text": [
      "[42, 23, 16, 15, 8, 4]\n"
     ]
    }
   ],
   "source": [
    "#List Functions (9)\n",
    "lucky_numbers = [4, 8, 15, 16, 23, 42]\n",
    "friends = [\"Sahil\", \"Soni\", \"Surya\", \"Suryansh\", \"Anant\", \"Harshit\" ]\n",
    "lucky_numbers.reverse()\n",
    "print(lucky_numbers)"
   ]
  },
  {
   "cell_type": "code",
   "execution_count": null,
   "metadata": {},
   "outputs": [
    {
     "name": "stdout",
     "output_type": "stream",
     "text": [
      "['Sahil', 'Soni', 'Surya', 'Suryansh', 'Anant', 'Harshit']\n"
     ]
    }
   ],
   "source": [
    "#List Functions (10)\n",
    "lucky_numbers = [4, 8, 15, 16, 23, 42]\n",
    "friends = [\"Sahil\", \"Soni\", \"Surya\", \"Suryansh\", \"Anant\", \"Harshit\" ]\n",
    "\n",
    "friends2 = friends.copy()\n",
    "print(friends2)"
   ]
  },
  {
   "cell_type": "code",
   "execution_count": null,
   "metadata": {},
   "outputs": [
    {
     "name": "stdout",
     "output_type": "stream",
     "text": [
      "5\n"
     ]
    }
   ],
   "source": [
    "#Tuples\n",
    "coordinates = (4, 5)\n",
    "print(coordinates[1])\n",
    "#Tuples can't be modified"
   ]
  },
  {
   "cell_type": "code",
   "execution_count": null,
   "metadata": {},
   "outputs": [
    {
     "name": "stdout",
     "output_type": "stream",
     "text": [
      "(6, 7)\n"
     ]
    }
   ],
   "source": [
    "#Tuples (2)\n",
    "coordinates = [(4, 5), (6,7), (80,34)]\n",
    "print(coordinates[1])"
   ]
  },
  {
   "cell_type": "code",
   "execution_count": null,
   "metadata": {},
   "outputs": [
    {
     "name": "stdout",
     "output_type": "stream",
     "text": [
      "Top\n",
      "Hello User\n",
      "Bottom\n"
     ]
    }
   ],
   "source": [
    "#Functions\n",
    "def say_hi():\n",
    "    print(\"Hello User\")\n",
    "print(\"Top\")\n",
    "say_hi()\n",
    "print(\"Bottom\")"
   ]
  },
  {
   "cell_type": "code",
   "execution_count": null,
   "metadata": {},
   "outputs": [
    {
     "name": "stdout",
     "output_type": "stream",
     "text": [
      "Hello Sahni You are 20\n"
     ]
    }
   ],
   "source": [
    "#Functions (2)\n",
    "def say_hi(name, age):\n",
    "    print(\"Hello \" + name + \" You are \" + age )\n",
    "say_hi(\"Sahni\", \"20\")"
   ]
  },
  {
   "cell_type": "code",
   "execution_count": null,
   "metadata": {},
   "outputs": [
    {
     "name": "stdout",
     "output_type": "stream",
     "text": [
      "None\n"
     ]
    }
   ],
   "source": [
    "#Return Statement (Error)\n",
    "def cube(num):\n",
    "    num*num*num\n",
    "print(cube(3))"
   ]
  },
  {
   "cell_type": "code",
   "execution_count": null,
   "metadata": {},
   "outputs": [
    {
     "name": "stdout",
     "output_type": "stream",
     "text": [
      "27\n"
     ]
    }
   ],
   "source": [
    "#Return Statement\n",
    "def cube(num):\n",
    "    return num*num*num\n",
    "print(cube(3))"
   ]
  },
  {
   "cell_type": "code",
   "execution_count": null,
   "metadata": {},
   "outputs": [
    {
     "name": "stdout",
     "output_type": "stream",
     "text": [
      "27\n"
     ]
    }
   ],
   "source": [
    "#Return Statement (2)\n",
    "def cube(num):\n",
    "    return num*num*num\n",
    "\n",
    "result = cube(3)\n",
    "print(result)"
   ]
  },
  {
   "cell_type": "code",
   "execution_count": null,
   "metadata": {},
   "outputs": [
    {
     "name": "stdout",
     "output_type": "stream",
     "text": [
      "You are a male\n"
     ]
    }
   ],
   "source": [
    "#If Satements\n",
    "is_male = True\n",
    "\n",
    "if is_male:\n",
    "    print(\"You are a male\")"
   ]
  },
  {
   "cell_type": "code",
   "execution_count": null,
   "metadata": {},
   "outputs": [],
   "source": [
    "#If Satements (2)\n",
    "is_male = False\n",
    "\n",
    "if is_male:\n",
    "    print(\"You are a male\")"
   ]
  },
  {
   "cell_type": "code",
   "execution_count": null,
   "metadata": {},
   "outputs": [
    {
     "name": "stdout",
     "output_type": "stream",
     "text": [
      "You are not a male\n"
     ]
    }
   ],
   "source": [
    "#If Satements (3)\n",
    "is_male = False\n",
    "\n",
    "if is_male:\n",
    "    print(\"You are a male\")\n",
    "else:\n",
    "    print(\"You are not a male\")"
   ]
  },
  {
   "cell_type": "code",
   "execution_count": null,
   "metadata": {},
   "outputs": [
    {
     "name": "stdout",
     "output_type": "stream",
     "text": [
      "You are a male or tall or both\n"
     ]
    }
   ],
   "source": [
    "#If Satements (4)\n",
    "is_male = True\n",
    "is_tall = True\n",
    "\n",
    "if is_male or is_tall:\n",
    "    print(\"You are a male or tall or both\")\n",
    "else:\n",
    "    print(\"You are neither male nor tall\")"
   ]
  },
  {
   "cell_type": "code",
   "execution_count": null,
   "metadata": {},
   "outputs": [
    {
     "name": "stdout",
     "output_type": "stream",
     "text": [
      "You are a male or tall or both\n"
     ]
    }
   ],
   "source": [
    "#If Satements (5)\n",
    "is_male = False\n",
    "is_tall = True\n",
    "\n",
    "if is_male or is_tall:\n",
    "    print(\"You are a male or tall or both\")\n",
    "else:\n",
    "    print(\"You are neither male nor tall\")"
   ]
  },
  {
   "cell_type": "code",
   "execution_count": null,
   "metadata": {},
   "outputs": [
    {
     "name": "stdout",
     "output_type": "stream",
     "text": [
      "You are neither male nor tall\n"
     ]
    }
   ],
   "source": [
    "#If Satements (6)\n",
    "is_male = False\n",
    "is_tall = False\n",
    "\n",
    "if is_male or is_tall:\n",
    "    print(\"You are a male or tall or both\")\n",
    "else:\n",
    "    print(\"You are neither male nor tall\")"
   ]
  },
  {
   "cell_type": "code",
   "execution_count": null,
   "metadata": {},
   "outputs": [
    {
     "name": "stdout",
     "output_type": "stream",
     "text": [
      "You are a male or tall or both\n"
     ]
    }
   ],
   "source": [
    "#If Satements (7)\n",
    "is_male = True\n",
    "is_tall = True\n",
    "\n",
    "if is_male or is_tall:\n",
    "    print(\"You are a male or tall or both\")\n",
    "elif is_male and not(is_tall):\n",
    "    print(\"You are short male\")\n",
    "elif not(is_male) and is_tall:\n",
    "    print(\"You are not a male but are tall\")\n",
    "else:\n",
    "    print(\"You are neither male nor tall\")"
   ]
  },
  {
   "cell_type": "code",
   "execution_count": null,
   "metadata": {},
   "outputs": [
    {
     "name": "stdout",
     "output_type": "stream",
     "text": [
      "You are short male\n"
     ]
    }
   ],
   "source": [
    "#If Satements (8)\n",
    "is_male = True\n",
    "is_tall = False\n",
    "\n",
    "if is_male and is_tall:\n",
    "    print(\"You are a male or tall or both\")\n",
    "elif is_male and not(is_tall):\n",
    "    print(\"You are short male\")\n",
    "elif not(is_male) and is_tall:\n",
    "    print(\"You are not a male but are tall\")\n",
    "else:\n",
    "    print(\"You are neither male nor tall\")"
   ]
  },
  {
   "cell_type": "code",
   "execution_count": null,
   "metadata": {},
   "outputs": [
    {
     "name": "stdout",
     "output_type": "stream",
     "text": [
      "You are neither male nor tall\n"
     ]
    }
   ],
   "source": [
    "#If Satements (9)\n",
    "is_male = False\n",
    "is_tall = False\n",
    "\n",
    "if is_male or is_tall:\n",
    "    print(\"You are a male or tall or both\")\n",
    "elif is_male and not(is_tall):\n",
    "    print(\"You are short male\")\n",
    "elif not(is_male) and is_tall:\n",
    "    print(\"You are not a male but are tall\")\n",
    "else:\n",
    "    print(\"You are neither male nor tall\")"
   ]
  },
  {
   "cell_type": "code",
   "execution_count": null,
   "metadata": {},
   "outputs": [
    {
     "name": "stdout",
     "output_type": "stream",
     "text": [
      "You are a male or tall or both\n"
     ]
    }
   ],
   "source": [
    "#If Satements (9)\n",
    "is_male = False\n",
    "is_tall = True\n",
    "\n",
    "if is_male or is_tall:\n",
    "    print(\"You are a male or tall or both\")\n",
    "elif is_male and not(is_tall):\n",
    "    print(\"You are short male\")\n",
    "elif not(is_male) and is_tall:\n",
    "    print(\"You are not a male but are tall\")\n",
    "else:\n",
    "    print(\"You are neither male nor tall\")"
   ]
  },
  {
   "cell_type": "code",
   "execution_count": null,
   "metadata": {},
   "outputs": [
    {
     "name": "stdout",
     "output_type": "stream",
     "text": [
      "5\n"
     ]
    }
   ],
   "source": [
    "#If Statement & Comparisons\n",
    "def max_num(num1, num2, num3):\n",
    "    if num1 >= num2 and num1 <= num3:\n",
    "        return num1\n",
    "    elif num2 >= num1 and num2 >= num3:\n",
    "        return num2\n",
    "    else:\n",
    "        return num3\n",
    "print(max_num(300, 40 ,5))"
   ]
  },
  {
   "cell_type": "code",
   "execution_count": null,
   "metadata": {},
   "outputs": [
    {
     "name": "stdout",
     "output_type": "stream",
     "text": [
      "489.0\n"
     ]
    }
   ],
   "source": [
    "#Building a better calculator\n",
    "num1 = float(input(\"Enter first number: \"))\n",
    "op = input((\"Enter operator: \"))\n",
    "num2 = float(input(\"Enter second number: \"))\n",
    "\n",
    "if op == \"+\":\n",
    "    print(num1+num2)\n",
    "elif op == \"-\":\n",
    "    print(num1-num2)\n",
    "elif op == \"*\":\n",
    "    print(num1*num2)\n",
    "elif op == \"/\":\n",
    "    print(num1/num2)\n",
    "else:\n",
    "    print(\"Invalid operator\")\n"
   ]
  },
  {
   "cell_type": "code",
   "execution_count": null,
   "metadata": {},
   "outputs": [
    {
     "name": "stdout",
     "output_type": "stream",
     "text": [
      "March\n"
     ]
    }
   ],
   "source": [
    "#Dictionaries\n",
    "monthConversions = {\n",
    "    \"Jan\": \"January\",\n",
    "    \"Feb\": \"February\",\n",
    "    \"Mar\": \"March\"\n",
    "}\n",
    "print(monthConversions[\"Mar\"])"
   ]
  },
  {
   "cell_type": "code",
   "execution_count": null,
   "metadata": {},
   "outputs": [
    {
     "name": "stdout",
     "output_type": "stream",
     "text": [
      "January\n"
     ]
    }
   ],
   "source": [
    "#Dictionaries (2)\n",
    "monthConversions = {\n",
    "    \"Jan\": \"January\",\n",
    "    \"Feb\": \"February\",\n",
    "    \"Mar\": \"March\"\n",
    "}\n",
    "print(monthConversions.get(\"Jan\"))\n",
    "#U CAN PUT ANY KEY SUCH AS JAN CAN BE STORED AS 1"
   ]
  },
  {
   "cell_type": "code",
   "execution_count": null,
   "metadata": {},
   "outputs": [
    {
     "name": "stdout",
     "output_type": "stream",
     "text": [
      "1\n",
      "2\n",
      "3\n",
      "4\n",
      "5\n",
      "6\n",
      "7\n",
      "8\n",
      "9\n",
      "10\n",
      "Done with loop\n"
     ]
    }
   ],
   "source": [
    "#While loop\n",
    "i = 1\n",
    "while i <= 10:\n",
    "    print(i)\n",
    "    i += 1\n",
    "print(\"Done with loop\")"
   ]
  },
  {
   "cell_type": "code",
   "execution_count": 101,
   "metadata": {},
   "outputs": [
    {
     "name": "stdout",
     "output_type": "stream",
     "text": [
      "You win!\n"
     ]
    }
   ],
   "source": [
    "#Building a guessing game\n",
    "secret_word = \"giraffe\"\n",
    "guess = \"\"\n",
    "\n",
    "while guess != secret_word:\n",
    "    guess= input(\"Enter guess:\")\n",
    "print(\"You win!\")\n",
    "\n"
   ]
  },
  {
   "cell_type": "code",
   "execution_count": 106,
   "metadata": {},
   "outputs": [
    {
     "name": "stdout",
     "output_type": "stream",
     "text": [
      "You win!\n"
     ]
    }
   ],
   "source": [
    "#Building a guessing game (2)\n",
    "secret_word = \"giraffe\"\n",
    "guess = \"\"\n",
    "guess_count = 0\n",
    "guess_limit = 3\n",
    "out_of_guesses = False\n",
    "while guess != secret_word and not(out_of_guesses):\n",
    "    if guess_count < guess_limit:\n",
    "        guess= input(\"Enter guess: \")\n",
    "        guess_count += 1\n",
    "    else:\n",
    "        out_of_guesses\n",
    "if out_of_guesses:\n",
    "    print(\"Out of Guesses, You Lose!\")\n",
    "else:\n",
    "    print(\"You win!\")\n"
   ]
  },
  {
   "cell_type": "code",
   "execution_count": 107,
   "metadata": {},
   "outputs": [
    {
     "name": "stdout",
     "output_type": "stream",
     "text": [
      "G\n",
      "i\n",
      "r\n",
      "a\n",
      "f\n",
      "f\n",
      "e\n",
      " \n",
      "A\n",
      "c\n",
      "d\n",
      "e\n",
      "m\n",
      "y\n"
     ]
    }
   ],
   "source": [
    "#For loops\n",
    "for letter in \"Giraffe Acdemy\":\n",
    "    print(letter)"
   ]
  },
  {
   "cell_type": "code",
   "execution_count": 109,
   "metadata": {},
   "outputs": [
    {
     "name": "stdout",
     "output_type": "stream",
     "text": [
      "Surya\n",
      "Sahil\n",
      "Harshit\n"
     ]
    }
   ],
   "source": [
    "#For loops (2)\n",
    "friends = [\"Surya\", \"Sahil\", \"Harshit\"]\n",
    "for friend in friends:\n",
    "    print(friend)"
   ]
  },
  {
   "cell_type": "code",
   "execution_count": 110,
   "metadata": {},
   "outputs": [
    {
     "name": "stdout",
     "output_type": "stream",
     "text": [
      "0\n",
      "1\n",
      "2\n",
      "3\n",
      "4\n",
      "5\n",
      "6\n",
      "7\n",
      "8\n",
      "9\n"
     ]
    }
   ],
   "source": [
    "#For loops (3)\n",
    "friends = [\"Surya\", \"Sahil\", \"Harshit\"]\n",
    "for index in range(10):\n",
    "    print(index)"
   ]
  },
  {
   "cell_type": "code",
   "execution_count": 111,
   "metadata": {},
   "outputs": [
    {
     "name": "stdout",
     "output_type": "stream",
     "text": [
      "3\n",
      "4\n",
      "5\n",
      "6\n",
      "7\n",
      "8\n",
      "9\n"
     ]
    }
   ],
   "source": [
    "#For loops (4)\n",
    "friends = [\"Surya\", \"Sahil\", \"Harshit\"]\n",
    "for index in range(3, 10):\n",
    "    print(index)"
   ]
  },
  {
   "cell_type": "code",
   "execution_count": null,
   "metadata": {},
   "outputs": [],
   "source": [
    "#For loops (5)\n",
    "friends = [\"Surya\", \"Sahil\", \"Harshit\"]\n",
    "len(f)+\"\n",
    "\n",
    "'0\"\n",
    "for index in range(3, 10):\n",
    "    print(index)"
   ]
  }
 ],
 "metadata": {
  "kernelspec": {
   "display_name": "Python 3.10.8 64-bit",
   "language": "python",
   "name": "python3"
  },
  "language_info": {
   "codemirror_mode": {
    "name": "ipython",
    "version": 3
   },
   "file_extension": ".py",
   "mimetype": "text/x-python",
   "name": "python",
   "nbconvert_exporter": "python",
   "pygments_lexer": "ipython3",
   "version": "3.10.8"
  },
  "orig_nbformat": 4,
  "vscode": {
   "interpreter": {
    "hash": "a25844f8875d8abcaf571fcc4973540671e5ff1952b10544384507cc779f5307"
   }
  }
 },
 "nbformat": 4,
 "nbformat_minor": 2
}
